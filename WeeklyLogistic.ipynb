{
 "cells": [
  {
   "cell_type": "code",
   "execution_count": 1,
   "metadata": {},
   "outputs": [],
   "source": [
    "from datetime import datetime, timedelta\n",
    "import os\n",
    "import openpyxl\n"
   ]
  },
  {
   "cell_type": "code",
   "execution_count": 127,
   "metadata": {},
   "outputs": [],
   "source": [
    "wb = openpyxl.load_workbook('weekly_basis.xlsx')\n",
    "report_sheet = wb['Форма горизонталь1']\n",
    "\n",
    "\n",
    "#report_data = report_sheet['G4':'AL8']\n",
    "# sks_row = report_sheet['G4':'AL4']\n",
    "# skd_row = report_sheet['G5':'AL5']\n",
    "# tep35_row  = report_sheet['G6':'AL6']\n",
    "# tep50_row  = report_sheet['G7':'AL7']\n",
    "# total_row  = report_sheet['G8':'AL8']\n",
    "report_titles = report_sheet['A1':'AL3']\n",
    "hiden_data = report_sheet['A4':'G8']\n",
    "rows = {'sks':report_sheet['G4':'AL4'],'skd':report_sheet['G5':'AL5'],'tep35':report_sheet['G6':'AL6'],\n",
    "        'tep50':report_sheet['G7':'AL7'],'total':report_sheet['G8':'AL8']}\n",
    "\n"
   ]
  },
  {
   "cell_type": "code",
   "execution_count": 121,
   "metadata": {
    "scrolled": true
   },
   "outputs": [
    {
     "name": "stdout",
     "output_type": "stream",
     "text": [
      "None 7 G8\n",
      "=SUM(H4:H7) 8 H8\n",
      "None 9 I8\n",
      "=SUM(J4:J7) 10 J8\n",
      "None 11 K8\n",
      "=SUM(L4:L7) 12 L8\n",
      "=SUM(M4:M7) 13 M8\n",
      "None 14 N8\n",
      "=SUM(O4:O7) 15 O8\n",
      "None 16 P8\n",
      "=SUM(Q4:Q7) 17 Q8\n",
      "=SUM(R4:R7) 18 R8\n",
      "None 19 S8\n",
      "=SUM(T4:T7) 20 T8\n",
      "=SUM(U4:U7) 21 U8\n",
      "None 22 V8\n",
      "=SUM(W4:W7) 23 W8\n",
      "=SUM(X4:X7) 24 X8\n",
      "None 25 Y8\n",
      "None 26 Z8\n",
      "=SUM(AA4:AA7) 27 AA8\n",
      "None 28 AB8\n",
      "=SUM(AC4:AC7) 29 AC8\n",
      "=SUM(AD4:AD7) 30 AD8\n",
      "None 31 AE8\n",
      "=SUM(AF4:AF7) 32 AF8\n",
      "=SUM(AG4:AG7) 33 AG8\n",
      "None 34 AH8\n",
      "=SUM(AI4:AI7) 35 AI8\n",
      "None 36 AJ8\n",
      "None 37 AK8\n",
      "None 38 AL8\n"
     ]
    }
   ],
   "source": [
    "print_row(rows['total'])"
   ]
  },
  {
   "cell_type": "code",
   "execution_count": 129,
   "metadata": {
    "scrolled": true
   },
   "outputs": [],
   "source": [
    "wb_result = create_resulting_wb()\n",
    "result_sheet = wb_result['Отчёт']\n",
    "copy_cells(report_titles, result_sheet)\n",
    "copy_cells(hiden_data, result_sheet)\n",
    "find_total()\n",
    "copy_cells(rows['total'], result_sheet)"
   ]
  },
  {
   "cell_type": "code",
   "execution_count": 62,
   "metadata": {},
   "outputs": [
    {
     "data": {
      "text/plain": [
       "'G1'"
      ]
     },
     "execution_count": 62,
     "metadata": {},
     "output_type": "execute_result"
    }
   ],
   "source": []
  },
  {
   "cell_type": "code",
   "execution_count": 124,
   "metadata": {},
   "outputs": [],
   "source": [
    "def print_row(row_slice):\n",
    "    for cell_obj in row_slice:\n",
    "        for cell in cell_obj:\n",
    "            print(cell.value, cell.column, cell.coordinate)\n",
    "            \n",
    "def create_resulting_wb():\n",
    "    wb_result = openpyxl.Workbook()\n",
    "    wb_result.create_sheet(title = 'Отчёт', index = 0)\n",
    "    result_sheet = wb_result['Отчёт']\n",
    "    for irow in range(8):\n",
    "        result_sheet.append([])\n",
    "    wb_result.save('weekly_report.xlsx')\n",
    "    return wb_result\n",
    "\n",
    "def copy_cells(slice_to_copy,sheet_we_copy_in):\n",
    "    for cells_obj in slice_to_copy:\n",
    "        for cell in cells_obj:\n",
    "            cell_tmp = sheet_we_copy_in.cell(row = cell.row, column = cell.column)\n",
    "            cell_tmp.value = cell.value\n",
    "    wb_result.save('weekly_report.xlsx')\n",
    "    \n",
    "def find_total():\n",
    "    total_positions = []\n",
    "    for cell_obj in rows['total']:\n",
    "        for cell in cell_obj:\n",
    "            if type(cell.value) == str:\n",
    "                total_positions.append((cell.value, cell.column, cell.coordinate))\n",
    "    for i in total_positions:\n",
    "        try:\n",
    "            report_sheet[i[2]] = (\n",
    "                                  float(report_sheet.cell(column=i[1],row=4).value) + \n",
    "                                  float(report_sheet.cell(column=i[1],row=5).value) + \n",
    "                                  float(report_sheet.cell(column=i[1],row=6).value) + \n",
    "                                  float(report_sheet.cell(column=i[1],row=7).value)\n",
    "                                  )\n",
    "        except ValueError:\n",
    "            #print(i[2])\n",
    "            report_sheet[i[2]] = ''\n",
    "    #return report_sheet['G8':'AL8']"
   ]
  },
  {
   "cell_type": "code",
   "execution_count": 113,
   "metadata": {
    "scrolled": true
   },
   "outputs": [
    {
     "name": "stdout",
     "output_type": "stream",
     "text": [
      "=SUM(H4:H7) 8 H8\n",
      "=SUM(J4:J7) 10 J8\n",
      "=SUM(L4:L7) 12 L8\n",
      "=SUM(M4:M7) 13 M8\n",
      "=SUM(O4:O7) 15 O8\n",
      "=SUM(Q4:Q7) 17 Q8\n",
      "=SUM(R4:R7) 18 R8\n",
      "=SUM(T4:T7) 20 T8\n",
      "=SUM(U4:U7) 21 U8\n",
      "=SUM(W4:W7) 23 W8\n",
      "=SUM(X4:X7) 24 X8\n",
      "=SUM(AA4:AA7) 27 AA8\n",
      "=SUM(AC4:AC7) 29 AC8\n",
      "=SUM(AD4:AD7) 30 AD8\n",
      "=SUM(AF4:AF7) 32 AF8\n",
      "=SUM(AG4:AG7) 33 AG8\n",
      "=SUM(AI4:AI7) 35 AI8\n"
     ]
    },
    {
     "data": {
      "text/plain": [
       "[('=SUM(H4:H7)', 8, 'H8'),\n",
       " ('=SUM(J4:J7)', 10, 'J8'),\n",
       " ('=SUM(L4:L7)', 12, 'L8'),\n",
       " ('=SUM(M4:M7)', 13, 'M8'),\n",
       " ('=SUM(O4:O7)', 15, 'O8'),\n",
       " ('=SUM(Q4:Q7)', 17, 'Q8'),\n",
       " ('=SUM(R4:R7)', 18, 'R8'),\n",
       " ('=SUM(T4:T7)', 20, 'T8'),\n",
       " ('=SUM(U4:U7)', 21, 'U8'),\n",
       " ('=SUM(W4:W7)', 23, 'W8'),\n",
       " ('=SUM(X4:X7)', 24, 'X8'),\n",
       " ('=SUM(AA4:AA7)', 27, 'AA8'),\n",
       " ('=SUM(AC4:AC7)', 29, 'AC8'),\n",
       " ('=SUM(AD4:AD7)', 30, 'AD8'),\n",
       " ('=SUM(AF4:AF7)', 32, 'AF8'),\n",
       " ('=SUM(AG4:AG7)', 33, 'AG8'),\n",
       " ('=SUM(AI4:AI7)', 35, 'AI8')]"
      ]
     },
     "execution_count": 113,
     "metadata": {},
     "output_type": "execute_result"
    }
   ],
   "source": []
  },
  {
   "cell_type": "code",
   "execution_count": 114,
   "metadata": {},
   "outputs": [
    {
     "name": "stdout",
     "output_type": "stream",
     "text": [
      "J8\n",
      "L8\n",
      "T8\n",
      "U8\n",
      "W8\n",
      "AD8\n",
      "AG8\n",
      "AI8\n"
     ]
    }
   ],
   "source": []
  },
  {
   "cell_type": "code",
   "execution_count": 110,
   "metadata": {
    "scrolled": true
   },
   "outputs": [
    {
     "name": "stdout",
     "output_type": "stream",
     "text": [
      "None 7 G8\n",
      "16394.0 8 H8\n",
      "None 9 I8\n",
      " 10 J8\n",
      "None 11 K8\n",
      " 12 L8\n",
      "4709.49 13 M8\n",
      "None 14 N8\n",
      "918.0 15 O8\n",
      "None 16 P8\n",
      "5677.0 17 Q8\n",
      "4721.982 18 R8\n",
      "None 19 S8\n",
      " 20 T8\n",
      " 21 U8\n",
      "None 22 V8\n",
      " 23 W8\n",
      "19823.216 24 X8\n",
      "None 25 Y8\n",
      "None 26 Z8\n",
      "0.0 27 AA8\n",
      "None 28 AB8\n",
      "1317.96 29 AC8\n",
      " 30 AD8\n",
      "None 31 AE8\n",
      "4708.624 32 AF8\n",
      " 33 AG8\n",
      "None 34 AH8\n",
      " 35 AI8\n",
      "None 36 AJ8\n",
      "None 37 AK8\n",
      "None 38 AL8\n"
     ]
    }
   ],
   "source": [
    "print_row(report_sheet['G8':'AL8'])"
   ]
  },
  {
   "cell_type": "code",
   "execution_count": null,
   "metadata": {},
   "outputs": [],
   "source": []
  }
 ],
 "metadata": {
  "kernelspec": {
   "display_name": "Python 3",
   "language": "python",
   "name": "python3"
  },
  "language_info": {
   "codemirror_mode": {
    "name": "ipython",
    "version": 3
   },
   "file_extension": ".py",
   "mimetype": "text/x-python",
   "name": "python",
   "nbconvert_exporter": "python",
   "pygments_lexer": "ipython3",
   "version": "3.7.6"
  }
 },
 "nbformat": 4,
 "nbformat_minor": 4
}
