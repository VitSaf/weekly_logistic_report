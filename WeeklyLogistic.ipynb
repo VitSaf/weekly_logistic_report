{
 "cells": [
  {
   "cell_type": "code",
   "execution_count": null,
   "metadata": {},
   "outputs": [],
   "source": [
    "from datetime import datetime, timedelta\n",
    "import os\n",
    "import openpyxl\n",
    "import os\n",
    "import pandas as pd\n",
    "\n",
    "ROOT_DIR = './'\n",
    "\n",
    "MARKS = ['СКС', \"СКД\", \"ДСТ\", \"СБС\",\"ДССК\"]\n",
    "print(\"Ready!\")"
   ]
  },
  {
   "cell_type": "code",
   "execution_count": null,
   "metadata": {},
   "outputs": [],
   "source": [
    "#Загрузка образца отчёта\n",
    "wb = openpyxl.load_workbook('weekly_basis.xlsx')\n",
    "report_sheet = wb['Форма горизонталь1']\n",
    "\n",
    "\n",
    "report_titles = report_sheet['A1':'AL3']\n",
    "hiden_data = report_sheet['A4':'G8']\n",
    "rows = {'sks':report_sheet['G4':'AL4'],'skd':report_sheet['G5':'AL5'],'tep35':report_sheet['G6':'AL6'],\n",
    "        'tep50':report_sheet['G7':'AL7'],'total':report_sheet['G8':'AL8']}\n",
    "\n",
    "\n"
   ]
  },
  {
   "cell_type": "code",
   "execution_count": null,
   "metadata": {},
   "outputs": [],
   "source": [
    "#test zone\n",
    "wb_test = openpyxl.load_workbook('test_formulas.xlsx')\n",
    "test_sheet = wb_test['test']\n",
    "create_formulas_cols(test_sheet)\n",
    "find_total(test_sheet)\n",
    "copy_cells(rows['total'], test_sheet)"
   ]
  },
  {
   "cell_type": "code",
   "execution_count": null,
   "metadata": {
    "scrolled": true
   },
   "outputs": [],
   "source": [
    "#Подгрузка отчётов из SAP \n",
    "\n",
    "#добавить проверку на верность даты начала и конца выгрузки\n",
    "prod_report  = pd.read_excel(os.path.join(ROOT_DIR, 'ZPP_PROD_REPORT.XLSX'),sheet_name = 'Sheet1', thousands = ',').drop(columns='Продукт').rename(columns={'Продукт.1':'Продукт'})\n",
    "mb52_report  = pd.read_excel(os.path.join(ROOT_DIR, 'MB52.XLSX'),sheet_name = 'Sheet1', thousands = ',')\n",
    "\n"
   ]
  },
  {
   "cell_type": "code",
   "execution_count": null,
   "metadata": {
    "scrolled": true
   },
   "outputs": [],
   "source": [
    "orion = pd.read_excel(os.path.join(ROOT_DIR, 'ORION.XLSX'),sheet_name = 'Last_ОАО Воронежсинтезкаучук', thousands = ',')\n",
    "        \n",
    "orion"
   ]
  },
  {
   "cell_type": "code",
   "execution_count": null,
   "metadata": {},
   "outputs": [],
   "source": [
    "\n",
    "prepare_orion_fact(orion)"
   ]
  },
  {
   "cell_type": "code",
   "execution_count": null,
   "metadata": {},
   "outputs": [],
   "source": [
    "\n",
    "orion_fact2\n",
    "#pd.concat([orion_fact1,orion_fact2])"
   ]
  },
  {
   "cell_type": "code",
   "execution_count": null,
   "metadata": {},
   "outputs": [],
   "source": [
    "#pd.concat([orion_fact1,orion_fact2])\n"
   ]
  },
  {
   "cell_type": "code",
   "execution_count": null,
   "metadata": {},
   "outputs": [],
   "source": [
    "#Используемые функции(отлаженные и протестированные)\n",
    "#печатает слайс\n",
    "def print_row(row_slice):\n",
    "    for cell_obj in row_slice:\n",
    "        for cell in cell_obj:\n",
    "            print(cell.value, cell.column, cell.coordinate)\n",
    "#создает эксель, в который пишутся результаты\n",
    "def create_resulting_wb():\n",
    "    wb_result = openpyxl.Workbook()\n",
    "    wb_result.create_sheet(title = 'Отчёт', index = 0)\n",
    "    result_sheet = wb_result['Отчёт']\n",
    "    for irow in range(8):\n",
    "        result_sheet.append([])\n",
    "    wb_result.save('weekly_report.xlsx')\n",
    "    return wb_result\n",
    "#копирую инфу из одного экселя в другой\n",
    "def copy_cells(slice_to_copy,sheet_we_copy_in):\n",
    "    for cells_obj in slice_to_copy:\n",
    "        for cell in cells_obj:\n",
    "            cell_tmp = sheet_we_copy_in.cell(row = cell.row, column = cell.column)\n",
    "            cell_tmp.value = cell.value\n",
    "    wb_result.save('weekly_report.xlsx')\n",
    "    #wb_test.save('weekly_report.xlsx')\n",
    "#Посчитать последнюю строку    \n",
    "#Вызывать последней\n",
    "def find_total(rep_sheet):\n",
    "    total_positions = []\n",
    "    for cell_obj in rows['total']:\n",
    "        for cell in cell_obj:\n",
    "            if type(cell.value) == str:\n",
    "                total_positions.append((cell.value, cell.column, cell.coordinate))\n",
    "    for i in total_positions:\n",
    "        try:\n",
    "            rep_sheet[i[2]] = (\n",
    "                                  float(rep_sheet.cell(column=i[1],row=4).value) + \n",
    "                                  float(rep_sheet.cell(column=i[1],row=5).value) + \n",
    "                                  float(rep_sheet.cell(column=i[1],row=6).value) + \n",
    "                                  float(rep_sheet.cell(column=i[1],row=7).value)\n",
    "                                  )\n",
    "        except ValueError:\n",
    "            #print(i[2])\n",
    "            rep_sheet[i[2]] = ''\n",
    "    #return rep_sheet['G8':'AL8']\n",
    "\n",
    "def put_info_in_col(col_n, data_dict, sheet_we_put_in):\n",
    "    cell_tmp = sheet_we_put_in.cell(row = 4, column = col_n)#CKC\n",
    "    cell_tmp.value =data_dict['СКС']\n",
    "    cell_tmp = sheet_we_put_in.cell(row = 5, column = col_n)#CKД+ДССК+СКД-НД\n",
    "    cell_tmp.value =data_dict['СКД']\n",
    "    cell_tmp = sheet_we_put_in.cell(row = 6, column = col_n)#ДСТ\n",
    "    cell_tmp.value =data_dict['ДСТ']\n",
    "    cell_tmp = sheet_we_put_in.cell(row = 7, column = col_n)#CБС\n",
    "    cell_tmp.value =data_dict['СБС']\n",
    "    wb_result.save('weekly_report.xlsx')\n",
    "\n",
    "\n",
    "#Получаем данные для 17стобца из ZPP_PROD_REPORT -> вариант VSK_PERIOD_PRD (Отчёт ВСК производства и сортировки продукции. Паспортизация)\n",
    "#вызывать предпоследней\n",
    "def get_column_17_info(df_zpp_prod_report):\n",
    "    #['СКС', \"СКД\"+\"ДССК\", \"ДСТ\", \"СБС\"]\n",
    "    RESULT = {'СКС':0,'СКД':0,'ДСТ':0,'СБС':0}\n",
    "    for i in range(prod_report.shape[0]):\n",
    "        row_tmp = prod_report.iloc[i,:]\n",
    "        row_tmp['Продукт'] = str(row_tmp['Продукт'])\n",
    "        if MARKS[0] in row_tmp['Продукт'] and not 'ЭП' in row_tmp['Продукт']:#CKC - верно\n",
    "            RESULT['СКС'] += row_tmp['Паспортизация'].astype(float) \n",
    "            continue\n",
    "        if MARKS[1] in row_tmp['Продукт'] and not 'ЭП' in row_tmp['Продукт']:#СКД - верно\n",
    "            RESULT['СКД'] += row_tmp['Паспортизация'].astype(float)\n",
    "            continue\n",
    "        if MARKS[4] in row_tmp['Продукт'] and not 'ЭП' in row_tmp['Продукт']:#ДССК - верно\n",
    "            RESULT['СКД'] += row_tmp['Паспортизация'].astype(float)\n",
    "            continue\n",
    "        if MARKS[2] in row_tmp['Продукт']:# and not 'ЭП' in row_tmp['Продукт']:#ДСТ\n",
    "            RESULT['ДСТ'] += row_tmp['Паспортизация'].astype(float)\n",
    "            continue\n",
    "        if MARKS[3] in row_tmp['Продукт']:# and not 'ЭП' in row_tmp['Продукт']:#СБС\n",
    "            RESULT['СБС'] += row_tmp['Паспортизация'].astype(float) \n",
    "            continue\n",
    "    return RESULT\n",
    "\n",
    "#Получаем данные для 10стобца из MB52 -> вариант BOGDANOVA\n",
    "def get_column10_info(df_mb52_report):\n",
    "    RESULT_CLEAR = {'СКС':0,'СКД':0,'ДСТ':0,'СБС':0}\n",
    "    RESULT_BRAK611 = {'СКС':0,'СКД':0,'ДСТ':0,'СБС':0}\n",
    "    RESULT_EP = {'СКС':0,'СКД':0,'ДСТ':0,'СБС':0,'ЭП-ТЭП':0}\n",
    "\n",
    "   #готовый продукт без ЭП и брака 611\n",
    "    for i in MARKS:\n",
    "        #1 без брака и ЭП\n",
    "        if i == 'ДССК':\n",
    "            RESULT_CLEAR['СКД'] += df_mb52_report[(df_mb52_report['Краткий текст материала'].str.contains(i) == True) & (df_mb52_report['Краткий текст материала'].str.contains(' 611') == False)]['СвобИспользЗапас'].sum()#.reset_index().drop(columns = 'index')\n",
    "        else:\n",
    "            if(i == 'СБС') or (i =='ДСТ'):\n",
    "                RESULT_CLEAR[i] += df_mb52_report[(df_mb52_report['Краткий текст материала'].str.contains(i) == True)  & (df_mb52_report['Краткий текст материала'].str.contains(' 611') == False)]['СвобИспользЗапас'].sum()#.reset_index().drop(columns = 'index')\n",
    "            else:\n",
    "                RESULT_CLEAR[i] += df_mb52_report[(df_mb52_report['Краткий текст материала'].str.contains(i) == True) & (df_mb52_report['Краткий текст материала'].str.contains(' 611') == False)]['СвобИспользЗапас'].sum()\n",
    "       #2 БРАК611\n",
    "        if i == 'ДССК':\n",
    "            RESULT_BRAK611['СКД'] += df_mb52_report[(df_mb52_report['Краткий текст материала'].str.contains(i) == True) & (df_mb52_report['Краткий текст материала'].str.contains(' 611') == True)]['СвобИспользЗапас'].sum()#.reset_index().drop(columns = 'index')\n",
    "        else:\n",
    "            if(i == 'СБС') or (i =='ДСТ'):\n",
    "                RESULT_BRAK611[i] += df_mb52_report[(df_mb52_report['Краткий текст материала'].str.contains(i) == True)  & (df_mb52_report['Краткий текст материала'].str.contains(' 611') == True)]['СвобИспользЗапас'].sum()#.reset_index().drop(columns = 'index')\n",
    "            else:\n",
    "                RESULT_BRAK611[i] += df_mb52_report[(df_mb52_report['Краткий текст материала'].str.contains(i) == True) & (df_mb52_report['Краткий текст материала'].str.contains(' 611') == True)]['СвобИспользЗапас'].sum()\n",
    "        #3 ЭП№№№№№№№№№№№№№№№№№№№№№№№№№№№№№№№№№№№№№№№№№№№№№№№№№№№№№№№№№№№№№№№№№№№№№№№№№№№№№№№№№№№№№№№№№№№№№№№№№№№№№№\n",
    "    RESULT_EP['СКД'] += df_mb52_report[(df_mb52_report['Краткий текст материала'].str.contains('ЭП-ДССК') == True)]['СвобИспользЗапас'].sum()#.reset_index().drop(columns = 'index')\n",
    "        #Как отличить ЭП ДСТ от ЭП СБС?\n",
    "    RESULT_EP['ЭП-ТЭП'] += df_mb52_report[(df_mb52_report['Краткий текст материала'].str.contains('ЭП-ТЭП') == True)]['СвобИспользЗапас'].sum()#.reset_index().drop(columns = 'index')\n",
    "    RESULT_EP['СКС'] += df_mb52_report[(df_mb52_report['Краткий текст материала'].str.contains('ЭП-СКС') == True)]['СвобИспользЗапас'].sum()\n",
    "    RESULT_EP['СКД'] += df_mb52_report[(df_mb52_report['Краткий текст материала'].str.contains('ЭП-ПБ') == True)]['СвобИспользЗапас'].sum()\n",
    "\n",
    "    #return RESULT_CLEAR, RESULT_BRAK611, RESULT_EP\n",
    "    return 'Продукт:'+str(RESULT_CLEAR), 'БРАК:'+ str(RESULT_BRAK611), 'ЭП:'+str(RESULT_EP)\n",
    "\n",
    "#Считаем все столбцы под формулами\n",
    "#11,12,18,19,20,21,24,,27,30,33,34\n",
    "def create_formulas_cols(resulting_sheet):\n",
    "    #[[куда поместить результат, оператор1, действие, оператор2, оператор3]-  действие одно на все операторы\n",
    "    formulas= [[11, 10, '/',8], [12, 13, '+',14, 15], [18, 17, '/',16], [19, 28, '+',31, 25], [20, 26, '+', 29, 32], \n",
    "              [21, 20, '/',19], [24, 23, '/',22],[27, 26, '/',25], [30, 29, '/', 28], [33, 32, '/', 31], [34, 23, '-',22]]\n",
    "    for i in formulas:\n",
    "        print(i)\n",
    "        \n",
    "            \n",
    "        if i[2] == '/':\n",
    "            try:\n",
    "                resulting_sheet.cell(column=i[0],row=4).value = float(resulting_sheet.cell(column=i[1],row=4).value)/float(resulting_sheet.cell(column=i[3],row=4).value)                \n",
    "            except ZeroDivisionError:\n",
    "                resulting_sheet.cell(column=i[0],row=4).value = '-'\n",
    "            try:\n",
    "                resulting_sheet.cell(column=i[0],row=5).value = float(resulting_sheet.cell(column=i[1],row=5).value)/float(resulting_sheet.cell(column=i[3],row=5).value)                \n",
    "            except ZeroDivisionError:\n",
    "                resulting_sheet.cell(column=i[0],row=5).value = '-'\n",
    "            try:\n",
    "                resulting_sheet.cell(column=i[0],row=6).value = float(resulting_sheet.cell(column=i[1],row=6).value)/float(resulting_sheet.cell(column=i[3],row=6).value)                \n",
    "            except ZeroDivisionError:\n",
    "                resulting_sheet.cell(column=i[0],row=6).value = '-'\n",
    "            try:\n",
    "                resulting_sheet.cell(column=i[0],row=7).value = float(resulting_sheet.cell(column=i[1],row=7).value)/float(resulting_sheet.cell(column=i[3],row=7).value)                \n",
    "            except ZeroDivisionError:\n",
    "                resulting_sheet.cell(column=i[0],row=7).value = '-'\n",
    "\n",
    "        if i[2] == '+':\n",
    "            resulting_sheet.cell(column=i[0],row=4).value = float(resulting_sheet.cell(column=i[1],row=4).value)+float(resulting_sheet.cell(column=i[3],row=4).value)+(resulting_sheet.cell(column=i[4],row=4).value)\n",
    "            resulting_sheet.cell(column=i[0],row=5).value = float(resulting_sheet.cell(column=i[1],row=5).value)+float(resulting_sheet.cell(column=i[3],row=5).value)+(resulting_sheet.cell(column=i[4],row=5).value)\n",
    "            resulting_sheet.cell(column=i[0],row=6).value = float(resulting_sheet.cell(column=i[1],row=6).value)+float(resulting_sheet.cell(column=i[3],row=6).value)+(resulting_sheet.cell(column=i[4],row=6).value)\n",
    "            resulting_sheet.cell(column=i[0],row=7).value = float(resulting_sheet.cell(column=i[1],row=7).value)+float(resulting_sheet.cell(column=i[3],row=7).value)+(resulting_sheet.cell(column=i[4],row=7).value)\n",
    "\n",
    "        if i[2] == '-':\n",
    "            resulting_sheet.cell(column=i[0],row=4).value = float(resulting_sheet.cell(column=i[1],row=4).value)-float(resulting_sheet.cell(column=i[3],row=4).value)\n",
    "            resulting_sheet.cell(column=i[0],row=5).value = float(resulting_sheet.cell(column=i[1],row=5).value)-float(resulting_sheet.cell(column=i[3],row=5).value)\n",
    "            resulting_sheet.cell(column=i[0],row=6).value = float(resulting_sheet.cell(column=i[1],row=6).value)-float(resulting_sheet.cell(column=i[3],row=6).value)\n",
    "            resulting_sheet.cell(column=i[0],row=7).value = float(resulting_sheet.cell(column=i[1],row=7).value)-float(resulting_sheet.cell(column=i[3],row=7).value)\n",
    "    wb_result.save('weekly_report.xlsx')\n",
    "    \n",
    "    \n",
    "    #wb_test.save('weekly_report.xlsx')\n",
    "    #Возвращает датасет с данным ППР\n",
    "    #Тип объекта РО - запланировано по ППР\n",
    "    #Тип объекта ОТКЛОНЁН - ФАКТ, но необходимо смотреть на таблицу со сдвигом +102\n",
    "    #TODO добавить фильтр по РО\n",
    "    def prepare_orion_PPR(orion_df):\n",
    "    orion_fact1 = orion.iloc[5:,1:4].rename(columns = {'Unnamed: 1':'Наименование позиции','Unnamed: 2':'Тип объекта','Unnamed: 3':'Метод отгрузки'}).reset_index().drop(columns = 'index')\n",
    "    orion_fact2 = orion.iloc[1:,19:50]\n",
    "    v = orion_fact2.iloc[0,:].to_list()\n",
    "    k = orion_fact2.columns.to_list()\n",
    "    cols_new = {}\n",
    "    for i in range(len(k)):\n",
    "        cols_new.update({k[i]:v[i]})\n",
    "    orion_fact2 = orion_fact2.rename(columns = cols_new).drop([1,2,3,4]).reset_index().drop(columns = 'index')\n",
    "    return orion_fact1.merge(orion_fact2, right_index = True, left_index = True)"
   ]
  },
  {
   "cell_type": "code",
   "execution_count": null,
   "metadata": {
    "scrolled": true
   },
   "outputs": [],
   "source": [
    "#Основной список вызов функций (main)\n",
    "wb_result = create_resulting_wb()\n",
    "result_sheet = wb_result['Отчёт']\n",
    "copy_cells(report_titles, result_sheet)\n",
    "copy_cells(hiden_data, result_sheet)\n",
    "#17 столбец\n",
    "put_info_in_col(17,get_column_17_info(prod_report),result_sheet)\n",
    "#предпоследняя\n",
    "create_formulas_cols(result_sheet)\n",
    "#последняя строка\n",
    "find_total()\n",
    "copy_cells(rows['total'], result_sheet)"
   ]
  },
  {
   "cell_type": "code",
   "execution_count": null,
   "metadata": {
    "scrolled": true
   },
   "outputs": [],
   "source": [
    "#MARKS = ['СКС', \"СКД\", \"ДСТ\", \"СБС\",\"ДССК\"]\n"
   ]
  },
  {
   "cell_type": "code",
   "execution_count": null,
   "metadata": {},
   "outputs": [],
   "source": [
    "mb52_report[(mb52_report['Краткий текст материала'].str.contains(i) == True) & (mb52_report['Краткий текст материала'].str.contains('ЭП') == False) & (mb52_report['Краткий текст материала'].str.contains(' 611') == False)]"
   ]
  },
  {
   "cell_type": "code",
   "execution_count": null,
   "metadata": {
    "scrolled": true
   },
   "outputs": [],
   "source": [
    "RESULT = [0,0]\n",
    "for i in range(prod_report.shape[0]):\n",
    "    row_tmp = prod_report.iloc[i,:]\n",
    "    row_tmp['Продукт'] = str(row_tmp['Продукт'])\n",
    "    if MARKS[1] in row_tmp['Продукт'] and not 'ЭП' in row_tmp['Продукт']:#СКД\n",
    "        RESULT[1] += row_tmp['Паспортизация'].astype(float)\n",
    "        print(row_tmp)"
   ]
  },
  {
   "cell_type": "code",
   "execution_count": null,
   "metadata": {},
   "outputs": [],
   "source": [
    "RESULT1 = [0,0,0]\n",
    "for i in range(prod_report.shape[0]):\n",
    "    row_tmp = prod_report.iloc[i,:]\n",
    "    row_tmp['Продукт'] = str(row_tmp['Продукт'])\n",
    "    if z in row_tmp['Продукт'] and not 'ЭП' in row_tmp['Продукт']:#ДССК\n",
    "        RESULT1[2] += row_tmp['Паспортизация'].astype(float)\n",
    "        print(row_tmp)        \n",
    "RESULT1"
   ]
  },
  {
   "cell_type": "code",
   "execution_count": null,
   "metadata": {
    "scrolled": true
   },
   "outputs": [],
   "source": [
    "z = prod_report.iloc[1370,0].split(' ')[1]\n",
    "z"
   ]
  },
  {
   "cell_type": "code",
   "execution_count": null,
   "metadata": {},
   "outputs": [],
   "source": []
  }
 ],
 "metadata": {
  "kernelspec": {
   "display_name": "Python 3",
   "language": "python",
   "name": "python3"
  },
  "language_info": {
   "codemirror_mode": {
    "name": "ipython",
    "version": 3
   },
   "file_extension": ".py",
   "mimetype": "text/x-python",
   "name": "python",
   "nbconvert_exporter": "python",
   "pygments_lexer": "ipython3",
   "version": "3.7.6"
  }
 },
 "nbformat": 4,
 "nbformat_minor": 4
}
